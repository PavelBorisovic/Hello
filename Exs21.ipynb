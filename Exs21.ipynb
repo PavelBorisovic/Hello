{
  "nbformat": 4,
  "nbformat_minor": 0,
  "metadata": {
    "colab": {
      "provenance": []
    },
    "kernelspec": {
      "name": "python3",
      "display_name": "Python 3"
    },
    "language_info": {
      "name": "python"
    }
  },
  "cells": [
    {
      "cell_type": "markdown",
      "source": [
        "## Задание №21"
      ],
      "metadata": {
        "id": "4jL0efLGo97V"
      }
    },
    {
      "cell_type": "code",
      "execution_count": 1,
      "metadata": {
        "colab": {
          "base_uri": "https://localhost:8080/"
        },
        "id": "3XTtOz4Okk0Y",
        "outputId": "ca1df559-b57f-444b-f3f4-3a7b425d29f2"
      },
      "outputs": [
        {
          "output_type": "stream",
          "name": "stdout",
          "text": [
            "              precision    recall  f1-score   support\n",
            "\n",
            "           0       1.00      1.00      1.00         8\n",
            "           1       1.00      1.00      1.00        11\n",
            "           2       1.00      1.00      1.00        11\n",
            "\n",
            "    accuracy                           1.00        30\n",
            "   macro avg       1.00      1.00      1.00        30\n",
            "weighted avg       1.00      1.00      1.00        30\n",
            "\n",
            "[1.         0.93333333 1.         1.         1.         0.93333333\n",
            " 0.93333333 1.         1.         1.        ]\n",
            "0.9800000000000001\n"
          ]
        }
      ],
      "source": [
        "import numpy as np\n",
        "import matplotlib.pyplot as plt\n",
        "from sklearn.datasets import load_iris\n",
        "from sklearn.model_selection import train_test_split\n",
        "from sklearn.neighbors import KNeighborsClassifier\n",
        "from sklearn.metrics import classification_report\n",
        "from sklearn.model_selection import cross_val_score\n",
        "import numpy as np\n",
        "import imageio\n",
        "import matplotlib.pyplot as plt\n",
        "\n",
        "iris_dataset = load_iris()\n",
        "X_train, X_test, y_train, y_test = train_test_split(iris_dataset['data'], iris_dataset['target'], test_size=0.20, random_state=5)\n",
        "\n",
        "neigh = KNeighborsClassifier(n_neighbors=18)\n",
        "neigh.fit(X_train, y_train)\n",
        "print(classification_report(y_test, neigh.predict(X_test)))\n",
        "\n",
        "\n",
        "scores = cross_val_score(neigh, iris_dataset['data'], iris_dataset['target'], cv=10, scoring='accuracy')\n",
        "print(scores)\n",
        "print(scores.mean())"
      ]
    }
  ]
}