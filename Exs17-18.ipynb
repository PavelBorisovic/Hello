{
  "cells": [
    {
      "cell_type": "markdown",
      "source": [
        "### Задание №17-18"
      ],
      "metadata": {
        "id": "7asWPsSukp-_"
      },
      "id": "7asWPsSukp-_"
    },
    {
      "cell_type": "markdown",
      "source": [
        "График №1"
      ],
      "metadata": {
        "id": "qgRrDTc1l-4D"
      },
      "id": "qgRrDTc1l-4D"
    },
    {
      "cell_type": "code",
      "execution_count": null,
      "id": "4059bfd6",
      "metadata": {
        "id": "4059bfd6"
      },
      "outputs": [],
      "source": [
        "import pandas as pd\n",
        "import matplotlib.pyplot as plt\n",
        "import warnings\n",
        "warnings.filterwarnings('ignore')\n",
        "\n",
        "data = pd.read_csv('flight_delays.csv', sep=',')\n",
        "for i in range(1,13,1):\n",
        "    data.loc[data[\"Month\"] == 'c-'+str(i), \"Month\"] = i\n",
        "data.sort_values(by='Month')\n",
        "x1 = data[data['dep_delayed_15min'] == 'Y'].groupby('Month').Month.count()\n",
        "x2 = data.groupby('Month').Month.count()\n",
        "x3 = x1 / x2\n",
        "x3.plot(kind='bar', x='Month', y='count')\n",
        "plt.show()"
      ]
    },
    {
      "cell_type": "markdown",
      "source": [
        "График №2"
      ],
      "metadata": {
        "id": "isRHKNcmmWRG"
      },
      "id": "isRHKNcmmWRG"
    },
    {
      "cell_type": "code",
      "execution_count": null,
      "id": "4deba223",
      "metadata": {
        "id": "4deba223"
      },
      "outputs": [],
      "source": [
        "x1 = data[data['dep_delayed_15min'] == 'Y'].groupby('Distance').Distance.count()\n",
        "x1.plot(kind='line', x='Distance', y='count')\n",
        "plt.show()"
      ]
    },
    {
      "cell_type": "markdown",
      "source": [
        "График №3"
      ],
      "metadata": {
        "id": "0aIdPxS1oqAT"
      },
      "id": "0aIdPxS1oqAT"
    },
    {
      "cell_type": "code",
      "execution_count": null,
      "id": "ef4ef620",
      "metadata": {
        "id": "ef4ef620"
      },
      "outputs": [],
      "source": [
        "x1 = data[data['dep_delayed_15min'] == 'Y'].groupby('Dest').dep_delayed_15min.count()\n",
        "D = x1.nlargest(5)\n",
        "print(D)\n",
        "D.plot(kind='pie')\n",
        "plt.show()"
      ]
    },
    {
      "cell_type": "markdown",
      "source": [
        "График №4"
      ],
      "metadata": {
        "id": "QJVyyJWvovzN"
      },
      "id": "QJVyyJWvovzN"
    },
    {
      "cell_type": "code",
      "execution_count": null,
      "id": "58c2ac5a",
      "metadata": {
        "id": "58c2ac5a"
      },
      "outputs": [],
      "source": [
        "for i in range(1, 13, 1):\n",
        "    if i in [1, 2, 12]:\n",
        "        data.loc[data[\"Month\"] == 'c-'+str(i), \"Month\"] = 'Winter'\n",
        "    elif i in [3, 4, 5]:\n",
        "        data.loc[data[\"Month\"] == 'c-' + str(i), \"Month\"] = 'Spring'\n",
        "    elif i in [6, 7, 8]:\n",
        "        data.loc[data[\"Month\"] == 'c-'+str(i), \"Month\"] = 'Summer'\n",
        "    else:\n",
        "        data.loc[data[\"Month\"] == 'c-'+str(i), \"Month\"] = 'Autumn'\n",
        "data = data.rename(columns={\"Month\": \"Seasons\"})\n",
        "x1 = data[data['dep_delayed_15min'] == 'Y'].groupby('Seasons').dep_delayed_15min.count()\n",
        "print(x1)\n",
        "x1.plot(kind='pie', colors = (\"orangered\", \"limegreen\", \"magenta\", \"royalblue\"))\n",
        "plt.show()"
      ]
    },
    {
      "cell_type": "markdown",
      "source": [
        "Графики №5-6"
      ],
      "metadata": {
        "id": "kujTFssPo3H6"
      },
      "id": "kujTFssPo3H6"
    },
    {
      "cell_type": "code",
      "execution_count": null,
      "id": "41a18910",
      "metadata": {
        "id": "41a18910"
      },
      "outputs": [],
      "source": [
        "x1 = data[data['dep_delayed_15min'] == 'Y'].groupby('UniqueCarrier').dep_delayed_15min.count()\n",
        "B = x1.nlargest(10)\n",
        "N = x1.nsmallest(10)\n",
        "print(B)\n",
        "B.plot(x=\"UniqueCarrier\", kind=\"bar\", color = 'darkorange')\n",
        "plt.show()\n",
        "N.plot(x=\"UniqueCarrier\", kind=\"bar\", color = 'olive')\n",
        "plt.show()"
      ]
    }
  ],
  "metadata": {
    "kernelspec": {
      "display_name": "Python 3",
      "language": "python",
      "name": "python3"
    },
    "language_info": {
      "codemirror_mode": {
        "name": "ipython",
        "version": 3
      },
      "file_extension": ".py",
      "mimetype": "text/x-python",
      "name": "python",
      "nbconvert_exporter": "python",
      "pygments_lexer": "ipython3",
      "version": "3.7.5"
    },
    "colab": {
      "provenance": []
    }
  },
  "nbformat": 4,
  "nbformat_minor": 5
}