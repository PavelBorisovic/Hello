{
  "nbformat": 4,
  "nbformat_minor": 0,
  "metadata": {
    "colab": {
      "provenance": []
    },
    "kernelspec": {
      "name": "python3",
      "display_name": "Python 3"
    },
    "language_info": {
      "name": "python"
    }
  },
  "cells": [
    {
      "cell_type": "markdown",
      "source": [
        "## Задание 16"
      ],
      "metadata": {
        "id": "xs-uAOm_pO6a"
      }
    },
    {
      "cell_type": "markdown",
      "source": [
        "#### Задача 1"
      ],
      "metadata": {
        "id": "GAkzulK0qOje"
      }
    },
    {
      "cell_type": "code",
      "execution_count": null,
      "metadata": {
        "id": "w2paMFhjmw0U"
      },
      "outputs": [],
      "source": [
        "import numpy as np\n",
        "import imageio\n",
        "import matplotlib.pyplot as plt\n",
        "from scipy import linalg\n",
        "import math\n",
        "\"1\"\n",
        "l = np.arange(12, 43)\n",
        "\n",
        "\"2\"\n",
        "h = np.zeros(10)\n",
        "h[4] = 1\n",
        "\n",
        "\"3\"\n",
        "A = np.arange(0, 9)\n",
        "B = A.reshape(3,3)\n",
        "\n",
        "\"4\"\n",
        "h = np.array([1,2,0,0,4,0])\n",
        "print(\"Индексы положительных элементов: \\n\", np.where(h > 0))\n",
        "\n",
        "\"5\"\n",
        "f = np.random.random((5,3))\n",
        "v = np.random.random((3,2))\n",
        "print (f.dot(v))\n",
        "\n",
        "\"6\"\n",
        "A = np.zeros((10,10))\n",
        "A[1:-1,1:-1] = 1\n",
        "\n",
        "\"7\"\n",
        "l = np.random.random(5)\n",
        "l.sort()\n",
        "\n",
        "\"8\"\n",
        "a = np.random.random(5)\n",
        "for ind, val in np.ndenumerate(a):\n",
        "  print(ind, val)"
      ]
    },
    {
      "cell_type": "markdown",
      "source": [
        "### Задача 2"
      ],
      "metadata": {
        "id": "bR-Bh_F_qYGB"
      }
    },
    {
      "cell_type": "code",
      "source": [
        "img = imageio.imread()\n",
        "h = np.array([0.299, 0.587, 0.114, 1])\n",
        "q = img.dot(h)\n",
        "plt.imshow(q)\n",
        "plt.show()"
      ],
      "metadata": {
        "id": "TG_o1qjinNIZ"
      },
      "execution_count": null,
      "outputs": []
    },
    {
      "cell_type": "markdown",
      "source": [
        "### Задача 3"
      ],
      "metadata": {
        "id": "w7l_0cCVqGvp"
      }
    },
    {
      "cell_type": "code",
      "source": [
        "fig = plt.subplots()\n",
        "y = lambda x: np.sin(x / 5) * np.exp(x / 10) + 5 * np.exp(-x / 2)\n",
        "x = np.linspace(0, 16, 10)\n",
        "plt.plot(x, y(x))"
      ],
      "metadata": {
        "id": "7oOu8c6EqkXi"
      },
      "execution_count": null,
      "outputs": []
    },
    {
      "cell_type": "code",
      "source": [
        "\"1\"\n",
        "b1 = math.sin(1/5)*math.exp(1/10)+5*math.exp(-1/2)\n",
        "b2 = math.sin(15/5)*math.exp(15/10)+5*math.exp(-15/2)\n",
        "b = np.array([[b1],[b2]])\n",
        "A = np.array([[1,1],[1,15]])\n",
        "sol = linalg.solve(A,b)\n",
        "print(sol)\n",
        "f = lambda x: sol[0]+sol[1]*x\n",
        "plt.plot(x, f(x))"
      ],
      "metadata": {
        "id": "zOomK5Jenr8y"
      },
      "execution_count": null,
      "outputs": []
    },
    {
      "cell_type": "code",
      "source": [
        "\"2\"\n",
        "b3 = math.sin(8/5)*math.exp(8/10)+5*math.exp(-8/2)\n",
        "b = np.array([[b1],[b2],[b3]])\n",
        "A = np.array([[1,1,1],[1,15,225],[1,8,64]])\n",
        "sol = linalg.solve(A,b)\n",
        "print(sol)\n",
        "d = lambda x: sol[0]+sol[1]*x+sol[2]*x**2\n",
        "plt.plot(x, d(x))"
      ],
      "metadata": {
        "id": "3k8qHxbdn4Zi"
      },
      "execution_count": null,
      "outputs": []
    },
    {
      "cell_type": "code",
      "source": [
        "\"3\"\n",
        "b3 = math.sin(4/5)*math.exp(4/10)+5*math.exp(-4/2)\n",
        "b4 = math.sin(10/5)*math.exp(10/10)+5*math.exp(-10/2)\n",
        "b = np.array([[b1],[b2],[b3],[b4]])\n",
        "A = np.array([[1,1,1,1],[1,15,225,15**3],[1,4,16,64],[1,10,100,1000]])\n",
        "sol = linalg.solve(A,b)\n",
        "print(sol)\n",
        "t = lambda x: sol[0]+sol[1]*x+sol[2]*x*x+sol[3]*x*x*x\n",
        "plt.plot(x, t(x))\n",
        "plt.show()"
      ],
      "metadata": {
        "id": "9ehbtEoxn7ZY"
      },
      "execution_count": null,
      "outputs": []
    }
  ]
}